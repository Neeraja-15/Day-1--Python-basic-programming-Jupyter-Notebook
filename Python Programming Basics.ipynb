{
 "cells": [
  {
   "cell_type": "code",
   "execution_count": 3,
   "id": "1ce45915-5550-4d2d-9107-6bcf911679fd",
   "metadata": {},
   "outputs": [
    {
     "name": "stdout",
     "output_type": "stream",
     "text": [
      "Hello, Python!\n"
     ]
    }
   ],
   "source": [
    "print(\"Hello, Python!\")"
   ]
  },
  {
   "cell_type": "code",
   "execution_count": 6,
   "id": "b8aa74bf-e9e5-4759-97f3-40163c3b1290",
   "metadata": {},
   "outputs": [
    {
     "data": {
      "text/plain": [
       "-10"
      ]
     },
     "execution_count": 6,
     "metadata": {},
     "output_type": "execute_result"
    }
   ],
   "source": [
    "num1 = 20\n",
    "num2 = 30\n",
    "sum = num1 - num2\n",
    "sum"
   ]
  },
  {
   "cell_type": "code",
   "execution_count": 8,
   "id": "b8501c22-df0f-47fc-8b87-be69b047ac5e",
   "metadata": {},
   "outputs": [
    {
     "name": "stdout",
     "output_type": "stream",
     "text": [
      " a is 10 and b is 23\n",
      "a is 10 and b is 23 and their sum is 33\n",
      "a is 10 and b is 23 and their sum is 33\n"
     ]
    }
   ],
   "source": [
    "a = 10\n",
    "b = 23\n",
    "print(f\" a is {a} and b is {b}\")\n",
    "print(\"a is {} and b is {} and their sum is {}\".format(a, b, a + b)) \n",
    "print(\"a is %d and b is %d and their sum is %d\" % (a, b, a + b)) \n"
   ]
  },
  {
   "cell_type": "code",
   "execution_count": 10,
   "id": "91a5e952-913d-4731-8fc9-da9ba9d1f09b",
   "metadata": {},
   "outputs": [
    {
     "name": "stdout",
     "output_type": "stream",
     "text": [
      "True\n"
     ]
    },
    {
     "data": {
      "text/plain": [
       "(3, 4)"
      ]
     },
     "execution_count": 10,
     "metadata": {},
     "output_type": "execute_result"
    }
   ],
   "source": [
    "number = 5.0\n",
    "print(number.is_integer()) \n",
    "number\n",
    "True\n",
    "5.0\n",
    "ratio = (0.75).as_integer_ratio() # (3, 4)\n",
    "ratio"
   ]
  },
  {
   "cell_type": "code",
   "execution_count": 12,
   "id": "e2df46b4-ee3f-4423-b803-ecbf06c23339",
   "metadata": {},
   "outputs": [
    {
     "name": "stdout",
     "output_type": "stream",
     "text": [
      "x is of type: <class 'int'>\n",
      "y is of type: <class 'float'>\n",
      "name is of type: <class 'str'>\n",
      "is_active is of type: <class 'bool'>\n"
     ]
    }
   ],
   "source": [
    "x = 10\n",
    "print(\"x is of type:\", type(x))\n",
    "y = 3.14\n",
    "print(\"y is of type:\", type(y))\n",
    "name = \"John\"\n",
    "print(\"name is of type:\", type(name))\n",
    "is_active = True\n",
    "print(\"is_active is of type:\", type(is_active))"
   ]
  },
  {
   "cell_type": "code",
   "execution_count": 14,
   "id": "81af36a5-0f5b-44c0-bccb-b58b31102e41",
   "metadata": {},
   "outputs": [
    {
     "name": "stdout",
     "output_type": "stream",
     "text": [
      "Converted to int: 5\n",
      "Converted to float: 25.0\n",
      "Converted to string: 90\n"
     ]
    }
   ],
   "source": [
    "num = 5.67\n",
    "num_int = int(num)\n",
    "print(\"Converted to int:\", num_int)\n",
    "age = 25\n",
    "age_float = float(age)\n",
    "print(\"Converted to float:\", age_float)\n",
    "score = 90\n",
    "score_str = str(score)\n",
    "print(\"Converted to string:\", score_str)"
   ]
  },
  {
   "cell_type": "code",
   "execution_count": 16,
   "id": "41588680-ec02-438a-9d81-ea7d78fae58b",
   "metadata": {},
   "outputs": [
    {
     "name": "stdout",
     "output_type": "stream",
     "text": [
      "Addition: 13\n",
      "Subtraction: 7\n",
      "Multiplication: 30\n",
      "Division: 3.3333333333333335\n",
      "Floor Division: 3\n",
      "Modulus: 1\n",
      "Exponentiation: 1000\n"
     ]
    }
   ],
   "source": [
    "a = 10\n",
    "b = 3\n",
    "print(\"Addition:\", a + b)\n",
    "print(\"Subtraction:\", a - b)\n",
    "print(\"Multiplication:\", a * b)\n",
    "print(\"Division:\", a / b)\n",
    "print(\"Floor Division:\", a // b)\n",
    "print(\"Modulus:\", a % b)\n",
    "print(\"Exponentiation:\", a ** b)"
   ]
  },
  {
   "cell_type": "code",
   "execution_count": 18,
   "id": "93ed04a8-883b-4e02-92ad-45e63e2abee3",
   "metadata": {},
   "outputs": [
    {
     "name": "stdout",
     "output_type": "stream",
     "text": [
      "Is x equal to y? False\n",
      "Is x not equal to y? True\n",
      "Is x greater than y? False\n",
      "Is x less than or equal to y? True\n"
     ]
    }
   ],
   "source": [
    "x = 10\n",
    "y = 20\n",
    "print(\"Is x equal to y?\", x == y)\n",
    "print(\"Is x not equal to y?\", x != y)\n",
    "print(\"Is x greater than y?\", x > y)\n",
    "print(\"Is x less than or equal to y?\", x <= y)"
   ]
  },
  {
   "cell_type": "code",
   "execution_count": 20,
   "id": "6a3356c8-b401-4044-b0dd-76ec29740d65",
   "metadata": {},
   "outputs": [
    {
     "name": "stdout",
     "output_type": "stream",
     "text": [
      "x > 0 and y > 0: True\n",
      "x > 0 or y < 0: True\n",
      "not(x > 0): False\n"
     ]
    }
   ],
   "source": [
    "x = 5\n",
    "y = 10\n",
    "print(\"x > 0 and y > 0:\", x > 0 and y > 0)\n",
    "print(\"x > 0 or y < 0:\", x > 0 or y < 0)\n",
    "print(\"not(x > 0):\", not(x > 0))"
   ]
  },
  {
   "cell_type": "code",
   "execution_count": null,
   "id": "a34c304d-0de1-4df4-b0e3-54b616ca3553",
   "metadata": {},
   "outputs": [],
   "source": []
  }
 ],
 "metadata": {
  "kernelspec": {
   "display_name": "Python [conda env:base] *",
   "language": "python",
   "name": "conda-base-py"
  },
  "language_info": {
   "codemirror_mode": {
    "name": "ipython",
    "version": 3
   },
   "file_extension": ".py",
   "mimetype": "text/x-python",
   "name": "python",
   "nbconvert_exporter": "python",
   "pygments_lexer": "ipython3",
   "version": "3.12.7"
  }
 },
 "nbformat": 4,
 "nbformat_minor": 5
}
